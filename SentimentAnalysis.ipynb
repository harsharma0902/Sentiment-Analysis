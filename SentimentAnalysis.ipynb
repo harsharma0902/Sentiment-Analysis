{
  "nbformat": 4,
  "nbformat_minor": 0,
  "metadata": {
    "colab": {
      "name": "SentimentAnalysis.ipynb",
      "provenance": [],
      "collapsed_sections": [],
      "include_colab_link": true
    },
    "kernelspec": {
      "name": "python3",
      "display_name": "Python 3"
    },
    "language_info": {
      "name": "python"
    }
  },
  "cells": [
    {
      "cell_type": "markdown",
      "metadata": {
        "id": "view-in-github",
        "colab_type": "text"
      },
      "source": [
        "<a href=\"https://colab.research.google.com/github/harsharma0902/Sentiment-Analysis/blob/main/SentimentAnalysis.ipynb\" target=\"_parent\"><img src=\"https://colab.research.google.com/assets/colab-badge.svg\" alt=\"Open In Colab\"/></a>"
      ]
    },
    {
      "cell_type": "markdown",
      "metadata": {
        "id": "crwMdOoBA_ZF"
      },
      "source": [
        "# SENTIMENTAL ANALYSIS"
      ]
    },
    {
      "cell_type": "markdown",
      "metadata": {
        "id": "OyGWWKwmBdam"
      },
      "source": [
        "The INTERNET today is full of social networking websites such as Facebook, LinkedIn, Pinterest, etc. which contain a lot of data. For example, Twitter is a microblogging site in which users can post updates (Tweets) to friends (followers). It has become an immense dataset of the so-called SENTIMENTS. \n",
        "\n",
        "In this project, I analyzed various papers focusing on the topic of Sentiment Analysis using Machine Learning. This Sentiment Analysis Model based on Naive Bayes & Support Vector Machine. Its purpose is to analyze sentiment more effectively. This model proved to be highly effective and accurate on the analysis of feelings."
      ]
    },
    {
      "cell_type": "code",
      "metadata": {
        "id": "2LMHgHA_jhmw"
      },
      "source": [
        "#DESCRIPTION: SENTIMENTAL ANALYSIS OF TWITTER DATA\n",
        "import tweepy\n",
        "import json\n",
        "from textblob import TextBlob\n",
        "from wordcloud import WordCloud\n",
        "import pandas as pd\n",
        "import numpy as np\n",
        "import re\n",
        "import matplotlib.pyplot as plt\n",
        "plt.style.use('fivethirtyeight')"
      ],
      "execution_count": 1,
      "outputs": []
    },
    {
      "cell_type": "code",
      "metadata": {
        "id": "PT32X1DIruyM"
      },
      "source": [
        "#TWITTER API CREDENTIALS\n",
        "consumerKey = \"FLj6bcrpPsic3rZ6kLQNa7mbH\"\n",
        "consumerSecret = \"psOlDGnwnqBd6xo20mVHlGkAGvvKt7C6OcsysJphXQnajOrcD4\"\n",
        "accessToken = \"1442491980554981384-v9ThsGb9jnogNgzCM0kgPJjxvKQPGb\"\n",
        "accessTokenSecret = \"DwXNMU82ievaZRw9mh4wq0AnzIYZRkHOwmGlhmmxvLjGK\""
      ],
      "execution_count": 2,
      "outputs": []
    },
    {
      "cell_type": "code",
      "metadata": {
        "id": "ydx-Qvo8sI23"
      },
      "source": [
        "#CREATING AUTHENTICATION OBJECT\n",
        "authenticate = tweepy.OAuthHandler(consumerKey, consumerSecret)\n",
        "\n",
        "#SET ACCESS TOKEN AND ACCESS TOKEN SECRET\n",
        "authenticate.set_access_token(accessToken, accessTokenSecret)\n",
        "\n",
        "#CREATING API OBJECT WHILE PASSING AUTH INFORMATION\n",
        "T_API = tweepy.API(authenticate, wait_on_rate_limit=True)"
      ],
      "execution_count": 3,
      "outputs": []
    },
    {
      "cell_type": "code",
      "metadata": {
        "id": "eMQcSY5Y4sZh"
      },
      "source": [
        "Tweet_List=[]\n",
        "class MyStreamListener(tweepy.StreamListener):\n",
        "    def __init__(Self,API=None):\n",
        "        super(MyStreamListener,Self).__init__()\n",
        "        Self.Num_Tweets=0\n",
        "        Self.File=open(\"Tweet.txt\",\"w\")\n",
        "    def on_status(Self,Status):\n",
        "        Tweet=Status._json\n",
        "        Self.File.write(json.dumps(Tweet)+ '\\n')\n",
        "        Tweet_List.append(Status)\n",
        "        Self.Num_Tweets+=1\n",
        "        if Self.Num_Tweets<250:\n",
        "            return True\n",
        "        else:\n",
        "            return False\n",
        "        Self.File.close()"
      ],
      "execution_count": 4,
      "outputs": []
    },
    {
      "cell_type": "code",
      "metadata": {
        "id": "a79YGeIe447Q"
      },
      "source": [
        "#CREATING STREAM OBJECT & AUTHENTICATE\n",
        "L = MyStreamListener()\n",
        "stream = tweepy.Stream(authenticate,L)\n",
        "\n",
        "#FOR FILTERING THE TWEETS\n",
        "stream.filter(track=['IoT','EdgeComputing','MobileIoT','CloudPlatform'])"
      ],
      "execution_count": null,
      "outputs": []
    },
    {
      "cell_type": "code",
      "metadata": {
        "id": "22dsxsRj-nVE"
      },
      "source": [
        "Data_Path='Tweet.txt'\n",
        "Tweets_Data=[]\n",
        "Tweets_File=open(Data_Path,\"r\")\n",
        "\n",
        "#READING TWEETS AND STORING THEM\n",
        "for Line in Tweets_File:\n",
        "    Tweet=json.loads(Line)\n",
        "    Tweets_Data.append(Tweet)\n",
        "Tweets_File.close()\n",
        "print((Tweets_Data[0]))\n",
        "\n",
        "posts = []\n",
        "for Key in Tweets_Data:\n",
        "  posts.append(Key['text'])\n",
        "\n",
        "posts"
      ],
      "execution_count": null,
      "outputs": []
    },
    {
      "cell_type": "code",
      "metadata": {
        "id": "hc2pltocyoza"
      },
      "source": [
        "#EXTRACTING 100 TWEETS FROM TWITTER USER\n",
        "posts = T_API.user_timeline(screen_name=\"elonmusk\", count=100, lang=\"en\", tweet_mode=\"extended\")\n",
        "\n",
        "#PRINTING THE LAST 5 TWEETS FROM THE ACCOUNT\n",
        "print(\"SHOWING 5 TWEETS: \\n\")\n",
        "i=1\n",
        "for tweet in posts[0:5]:\n",
        "  print(str(i)+\")\", tweet.full_text, \"\\n\")\n",
        "  i+=1"
      ],
      "execution_count": null,
      "outputs": []
    },
    {
      "cell_type": "code",
      "metadata": {
        "id": "W0pPnWBm0v4O"
      },
      "source": [
        "#CREATING DATAFRAME WITH COLUMN CALLED TWEETS\n",
        "DF = pd.DataFrame([Tweet for Tweet in posts], columns=['Tweets'])\n",
        "\n",
        "#SHOW THE FIRST 5 ROWS OF DATA\n",
        "DF.head()"
      ],
      "execution_count": null,
      "outputs": []
    },
    {
      "cell_type": "code",
      "metadata": {
        "id": "sSYwzEWl_Q1S"
      },
      "source": [
        "#CLEANING THE TEXT\n",
        "\n",
        "#CREATING A FUNCTION TO CLEAN THE TWEETS\n",
        "def cleanText(text):\n",
        "  text = re.sub(r'@[A-Za-z0-9]+', '', text) #REMOVES @ TAGS\n",
        "  text = re.sub(r'#', '', text) #REMOVES # SYMBOL\n",
        "  text = re.sub(r'RT[\\s]+', '', text) #REMOVES RT(RETWEETS)\n",
        "  text = re.sub(r'https?:\\/\\/\\S+', '', text) #REMOVES HYPERLINK\n",
        "\n",
        "  return text\n",
        "\n",
        "#CLEANING THE TEXT\n",
        "DF['Tweets'] = DF['Tweets'].apply(cleanText)\n",
        "\n",
        "#SHOWING CLEANED TEXT\n",
        "DF"
      ],
      "execution_count": null,
      "outputs": []
    },
    {
      "cell_type": "code",
      "metadata": {
        "id": "1-aHYjXQEl3t"
      },
      "source": [
        "#CREATING A FUNCTION TO GET SUBJECTIVITY\n",
        "def getSubjectivity(text):\n",
        "  return TextBlob(text).sentiment.subjectivity\n",
        "\n",
        "#CREATING A FUNCTION TO GET POLARITY\n",
        "def getPolarity(text):\n",
        "  return TextBlob(text).sentiment.polarity\n",
        "\n",
        "#CREATE NEW COLUMNS\n",
        "DF['Subjectivity'] = DF['Tweets'].apply(getSubjectivity)\n",
        "DF['Polarity'] = DF['Tweets'].apply(getPolarity)\n",
        "\n",
        "#SHOWING DATAFRAME WITH NEW COLUMNS\n",
        "DF"
      ],
      "execution_count": null,
      "outputs": []
    },
    {
      "cell_type": "code",
      "metadata": {
        "id": "fubHNiuRYz16"
      },
      "source": [
        "#PLOTTING WORD CLOUD TO GET AN IDEA\n",
        "allWords = ' '.join([twts for twts in DF['Tweets']])\n",
        "wordCloud = WordCloud(collocations = False, background_color = 'white').generate(allWords)\n",
        "\n",
        "Image = plt.imshow(wordCloud, interpolation=\"bilinear\")\n",
        "plt.axis('off')\n",
        "plt.show()"
      ],
      "execution_count": null,
      "outputs": []
    },
    {
      "cell_type": "code",
      "metadata": {
        "id": "CC5IM3RxahwT"
      },
      "source": [
        "#FUNCTION TO COMPUTE THE NEGETIVE NEUTRAL AND POSITIVE ANALYSIS\n",
        "def getAnalysis(score):\n",
        "  if score>0:\n",
        "    return \"POSITIVE\"\n",
        "  elif score==0:\n",
        "    return \"NEUTRAL\"\n",
        "  else:\n",
        "    return \"NEGATIVE\"\n",
        "\n",
        "DF['Analysis'] = DF['Polarity'].apply(getAnalysis)\n",
        "\n",
        "#SHOW DATAFRAME\n",
        "DF"
      ],
      "execution_count": null,
      "outputs": []
    },
    {
      "cell_type": "code",
      "metadata": {
        "id": "zmZrlKDFc89i"
      },
      "source": [
        "#PRINTING ALL POSITIVE TWEETS\n",
        "j=1\n",
        "sortedDF = DF.sort_values(by=['Polarity'])\n",
        "for i in range(0, sortedDF.shape[0]):\n",
        "  if (sortedDF['Analysis'][i] == \"POSITIVE\"):\n",
        "    print(str(j)+')', sortedDF['Tweets'][i], \"\\n\")\n",
        "    j=j+1;"
      ],
      "execution_count": null,
      "outputs": []
    },
    {
      "cell_type": "code",
      "metadata": {
        "id": "WmvM0q3heLE1"
      },
      "source": [
        "#PRINTING ALL NEGATIVE TWEETS\n",
        "j=1\n",
        "sortedDF = DF.sort_values(by=['Polarity'])\n",
        "for i in range(0, sortedDF.shape[0]):\n",
        "  if (sortedDF['Analysis'][i] == \"NEGATIVE\"):\n",
        "    print(str(j)+')', sortedDF['Tweets'][i], sortedDF['Polarity'][i], \"\\n\")\n",
        "    j=j+1;"
      ],
      "execution_count": null,
      "outputs": []
    },
    {
      "cell_type": "code",
      "metadata": {
        "id": "9z0gzp7KY-vF"
      },
      "source": [
        "#PRINTING ALL NEUTRAL TWEETS\n",
        "j=1\n",
        "sortedDF = DF.sort_values(by=['Polarity'])\n",
        "for i in range(0, sortedDF.shape[0]):\n",
        "  if (sortedDF['Analysis'][i] == \"NEUTRAL\"):\n",
        "    print(str(j)+')', sortedDF['Tweets'][i], \"\\n\")\n",
        "    j=j+1;"
      ],
      "execution_count": null,
      "outputs": []
    },
    {
      "cell_type": "code",
      "metadata": {
        "id": "SzRkDaTUZHaS"
      },
      "source": [
        "#PLOTTING THE POLARITY AND SUBJECTIVITY\n",
        "plt.figure(figsize=(8,6))\n",
        "for i in range(0, DF.shape[0]):\n",
        "  plt.scatter(DF['Polarity'][i], DF['Subjectivity'][i], color='Blue')\n",
        "\n",
        "plt.title('Sentiment Analysis')\n",
        "plt.xlabel('Polarity')\n",
        "plt.ylabel('Subjectivity')\n",
        "plt.show()"
      ],
      "execution_count": null,
      "outputs": []
    },
    {
      "cell_type": "code",
      "metadata": {
        "id": "emFiQK7xdWJE"
      },
      "source": [
        "#GET THE PERCENTAGE OF POSITIVE TWEETS\n",
        "posTweets = DF[DF.Analysis == 'POSITIVE']\n",
        "posTweets = posTweets['Tweets']\n",
        "\n",
        "round((posTweets.shape[0] / DF.shape[0])*100, 1)"
      ],
      "execution_count": null,
      "outputs": []
    },
    {
      "cell_type": "code",
      "metadata": {
        "id": "uDQsHHaaeMlU"
      },
      "source": [
        "#GET THE PERCENTAGE OF NEGATIVE TWEETS\n",
        "negTweets = DF[DF.Analysis == 'NEGATIVE']\n",
        "negTweets = negTweets['Tweets']\n",
        "\n",
        "round((negTweets.shape[0] / DF.shape[0])*100, 1)"
      ],
      "execution_count": null,
      "outputs": []
    },
    {
      "cell_type": "code",
      "metadata": {
        "id": "1T5tfv3yFKQX"
      },
      "source": [
        "#GET THE PERCENTAGE OF NEUTRAL TWEETS\n",
        "neuTweets = DF[DF.Analysis == 'NEUTRAL']\n",
        "neuTweets = neuTweets['Tweets']\n",
        "\n",
        "round((neuTweets.shape[0] / DF.shape[0])*100, 1)"
      ],
      "execution_count": null,
      "outputs": []
    },
    {
      "cell_type": "code",
      "metadata": {
        "id": "DQe4rjMge54s"
      },
      "source": [
        "#SHOWING PERCENTAGES ON GRAPH\n",
        "DF['Analysis'].value_counts()\n",
        "\n",
        "plt.title('Sentiment Analysis')\n",
        "plt.xlabel('Sentiment')\n",
        "plt.ylabel('Counts')\n",
        "DF['Analysis'].value_counts().plot(kind='bar')\n",
        "plt.show()"
      ],
      "execution_count": null,
      "outputs": []
    },
    {
      "cell_type": "code",
      "metadata": {
        "id": "09wnanLefzg3"
      },
      "source": [
        ""
      ],
      "execution_count": null,
      "outputs": []
    }
  ]
}